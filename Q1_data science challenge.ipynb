{
 "cells": [
  {
   "cell_type": "code",
   "execution_count": 34,
   "metadata": {
    "collapsed": true
   },
   "outputs": [],
   "source": [
    "import pandas as pd \n",
    "import numpy as np\n",
    "import random\n",
    "from numpy import product\n",
    "from operator import mul"
   ]
  },
  {
   "cell_type": "code",
   "execution_count": 29,
   "metadata": {
    "collapsed": true
   },
   "outputs": [],
   "source": [
    "pd.set_option('display.float_format', lambda x: '%.10f' % x)"
   ]
  },
  {
   "cell_type": "code",
   "execution_count": 35,
   "metadata": {
    "collapsed": true
   },
   "outputs": [],
   "source": [
    "#Q1: You roll N fair six-sided dice. The sum of the values is M. We wish to know about the product of the faces.\n",
    "#If N=8 and M=24, what is the expected value of the product?"
   ]
  },
  {
   "cell_type": "code",
   "execution_count": 36,
   "metadata": {
    "collapsed": true
   },
   "outputs": [],
   "source": [
    "def rollDie(number):\n",
    "    result = []\n",
    "    for i in range(number):\n",
    "        roll = random.randint(1,6)\n",
    "        result.append(roll)\n",
    "    return result"
   ]
  },
  {
   "cell_type": "code",
   "execution_count": 37,
   "metadata": {
    "collapsed": false
   },
   "outputs": [],
   "source": [
    "def get_product(N, M): \n",
    "    result = []\n",
    "    while True:\n",
    "        try:\n",
    "            test = rollDie(N)\n",
    "            if sum(test)==M:\n",
    "                result = test\n",
    "                break\n",
    "        except:    \n",
    "            pass\n",
    "    return(result)"
   ]
  },
  {
   "cell_type": "code",
   "execution_count": 5,
   "metadata": {
    "collapsed": false
   },
   "outputs": [
    {
     "name": "stdout",
     "output_type": "stream",
     "text": [
      "1861.25109\n",
      "858.403024776\n"
     ]
    }
   ],
   "source": [
    "outcome = [get_product(8,24) for _ in range(10**5)]\n",
    "q1_1_answer = np.mean(outcome)\n",
    "print(q1_1_answer)\n",
    "q1_2_answer = np.std(outcome)\n",
    "print(q1_2_answer)"
   ]
  },
  {
   "cell_type": "code",
   "execution_count": 6,
   "metadata": {
    "collapsed": false
   },
   "outputs": [
    {
     "name": "stdout",
     "output_type": "stream",
     "text": [
      "-8.98682721933e+16\n",
      "5.3590867753e+18\n"
     ]
    }
   ],
   "source": [
    "outcome = [get_product(50,150) for _ in range(10**5)]\n",
    "q1_1_answer = np.mean(outcome)\n",
    "print(q1_1_answer)\n",
    "q1_2_answer = np.std(outcome)\n",
    "print(q1_2_answer)"
   ]
  }
 ],
 "metadata": {
  "kernelspec": {
   "display_name": "Py3",
   "language": "python",
   "name": "py3"
  },
  "language_info": {
   "codemirror_mode": {
    "name": "ipython",
    "version": 3
   },
   "file_extension": ".py",
   "mimetype": "text/x-python",
   "name": "python",
   "nbconvert_exporter": "python",
   "pygments_lexer": "ipython3",
   "version": "3.5.2"
  }
 },
 "nbformat": 4,
 "nbformat_minor": 1
}
