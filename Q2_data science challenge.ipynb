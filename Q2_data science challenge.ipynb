{
 "cells": [
  {
   "cell_type": "code",
   "execution_count": 1,
   "metadata": {
    "collapsed": true
   },
   "outputs": [],
   "source": [
    "import pandas as pd \n",
    "import numpy as np\n",
    "import random\n",
    "import requests \n",
    "import zipfile\n",
    "import io\n",
    "from numpy import product\n",
    "import geopy as gpy\n",
    "from geopy.distance import great_circle\n",
    "import glob\n",
    "import os"
   ]
  },
  {
   "cell_type": "markdown",
   "metadata": {},
   "source": [
    "### Bike Data"
   ]
  },
  {
   "cell_type": "code",
   "execution_count": 2,
   "metadata": {
    "collapsed": false
   },
   "outputs": [],
   "source": [
    "#generate zipfile names\n",
    "prefix = range(201501,201513)\n",
    "zipfiles = []\n",
    "for i in prefix: \n",
    "    name = str(i) + '-citibike-tripdata.zip'\n",
    "    zipfiles.append(name)\n",
    "\n",
    "url = 'https://s3.amazonaws.com/tripdata/'"
   ]
  },
  {
   "cell_type": "code",
   "execution_count": null,
   "metadata": {
    "collapsed": false
   },
   "outputs": [],
   "source": [
    "#download data \n",
    "for n in range(len(zipfiles)):\n",
    "    r = requests.get(url + zipfiles[n])\n",
    "    z = zipfile.ZipFile(io.BytesIO(r.content))\n",
    "    name = z.namelist()\n",
    "    z.extractall('data/')"
   ]
  },
  {
   "cell_type": "code",
   "execution_count": 3,
   "metadata": {
    "collapsed": false
   },
   "outputs": [],
   "source": [
    "#get filenames\n",
    "filenames = []\n",
    "for i in prefix: \n",
    "        name = str(i) + '-citibike-tripdata.csv'\n",
    "        filenames.append(name)"
   ]
  },
  {
   "cell_type": "code",
   "execution_count": 4,
   "metadata": {
    "collapsed": false
   },
   "outputs": [],
   "source": [
    "#get first file to colheaders\n",
    "dt = pd.read_csv('data/' + filenames[1])"
   ]
  },
  {
   "cell_type": "code",
   "execution_count": 6,
   "metadata": {
    "collapsed": false
   },
   "outputs": [],
   "source": [
    "#load data \n",
    "path = 'data/'                 \n",
    "all_files = glob.glob(os.path.join(path, \"*.csv\"))     \n",
    "df = (pd.read_csv(f) for f in all_files)\n",
    "data   = pd.concat(df, ignore_index=True)"
   ]
  },
  {
   "cell_type": "code",
   "execution_count": 13,
   "metadata": {
    "collapsed": false
   },
   "outputs": [],
   "source": [
    "#convert timestamps to datetime\n",
    "data['starttime'] = pd.to_datetime(data['starttime'], format = '%m/%d/%Y %H:%M', exact = False)\n",
    "data['stoptime'] = pd.to_datetime(data['stoptime'], format = '%m/%d/%Y %H:%M', exact = False)\n",
    "\n",
    "#convert id vars to string\n",
    "to_string = ['start station id', 'end station id', 'bikeid']\n",
    "for var in to_string: \n",
    "    data[var] = data[var].astype(str)\n",
    "\n",
    "#remove unnecessary vars\n",
    "data = data.drop(['birth year', 'gender'], axis = 1)"
   ]
  },
  {
   "cell_type": "code",
   "execution_count": 24,
   "metadata": {
    "collapsed": true
   },
   "outputs": [],
   "source": [
    "bike = data"
   ]
  },
  {
   "cell_type": "code",
   "execution_count": 25,
   "metadata": {
    "collapsed": false
   },
   "outputs": [
    {
     "name": "stdout",
     "output_type": "stream",
     "text": [
      "968.087654228\n"
     ]
    }
   ],
   "source": [
    "#Q2-1 What is the median trip duration, in seconds?\n",
    "#Note trip duration appears to be in seconds. You could subtract the starttime from the stop time but \n",
    "#in this case that may be less accurate as they do not include seconds. \n",
    "#duration = bike['stoptime'] - bike['starttime']\n",
    "#duration_mean = duration.mean().total_seconds()\n",
    "\n",
    "q2_1_answer = bike['tripduration'].mean()\n",
    "print(q2_1_answer)"
   ]
  },
  {
   "cell_type": "code",
   "execution_count": 29,
   "metadata": {
    "collapsed": false
   },
   "outputs": [
    {
     "name": "stdout",
     "output_type": "stream",
     "text": [
      "0.022358391337304433\n"
     ]
    }
   ],
   "source": [
    "#Q2-2 What fraction of rides start and end at the same station?\n",
    "same_station = bike[bike['start station id'] == bike ['end station id']] \n",
    "q2_2_answer = float(len(same_station))/float(len(bike))\n",
    "print(q2_2_answer)"
   ]
  },
  {
   "cell_type": "code",
   "execution_count": 30,
   "metadata": {
    "collapsed": false
   },
   "outputs": [
    {
     "name": "stdout",
     "output_type": "stream",
     "text": [
      "54.5451138723\n"
     ]
    }
   ],
   "source": [
    "#Q3 std of number of stations visited by each bike\n",
    "#We say a bike has visited a station if it has a ride that either started or ended \n",
    "#at that station. Some bikes have visited many stations; others just a few. \n",
    "#What is the standard deviation of the number of stations visited by a bike?\n",
    "no_stations = []\n",
    "for id in list(pd.unique(bike['bikeid'])): \n",
    "    sub = bike[bike['bikeid'] == id]\n",
    "    start, stop = list(sub['start station id'].values[:]), list(sub['end station id'].values[:])\n",
    "    distinct_stations = len(list(set(start + stop)))\n",
    "    no_stations.append(distinct_stations)\n",
    "q2_3_answer = pd.Series(no_stations).std()\n",
    "print(q2_3_answer)"
   ]
  },
  {
   "cell_type": "code",
   "execution_count": 31,
   "metadata": {
    "collapsed": false
   },
   "outputs": [
    {
     "name": "stdout",
     "output_type": "stream",
     "text": [
      "1.76014829948\n",
      "1.76014829948\n"
     ]
    }
   ],
   "source": [
    "#Q4 What is the average length, in kilometers, of a trip? \n",
    "#Assume trips follow great circle arcs from the start station to the end station. \n",
    "#Ignore trips that start and end at the same station, as well as those with obviously wrong data.\n",
    "\n",
    "#ignore trips that start and end at the same station\n",
    "no_good = bike.index.isin(list(same_station.index))\n",
    "trips  = bike[~no_good]\n",
    "\n",
    "#calculate trip distance\n",
    "trip_dist = []\n",
    "start_point = list(zip(trips['start station latitude'], trips['start station longitude']))\n",
    "end_point = list(zip(trips['end station latitude'], trips['end station longitude']))\n",
    "for i in range(len(start_point)): \n",
    "    distance = great_circle(start_point[i], end_point[i]).km\n",
    "    trip_dist.append(distance)\n",
    "    \n",
    "#identify outliers \n",
    "trip_dist = pd.Series(trip_dist)\n",
    "q1= trip_dist.describe()[4]\n",
    "q3= trip_dist.describe()[6]\n",
    "iqr = (q3-q1)*4\n",
    "outliers = trip_dist[(trip_dist < (q1-iqr)) | (trip_dist > (q3+iqr))]\n",
    "keep = trip_dist[(trip_dist > (q1-iqr)) | (trip_dist < (q3+iqr))]\n",
    "print(keep.mean())\n",
    "\n",
    "q2_4_answer = trip_dist.mean()\n",
    "print(q2_4_answer)"
   ]
  },
  {
   "cell_type": "code",
   "execution_count": 32,
   "metadata": {
    "collapsed": false
   },
   "outputs": [
    {
     "name": "stdout",
     "output_type": "stream",
     "text": [
      "430.57029597\n"
     ]
    }
   ],
   "source": [
    "#Q5 Calculate the average duration of trips for each month in the year. \n",
    "#(Consider a trip to occur in the month in which it starts.) \n",
    "#What is the difference, in seconds, between the longest and shortest average durations?\n",
    "#bike['duration'] = duration/ np.timedelta64(1, 's')\n",
    "ts = bike.set_index('starttime')\n",
    "by_month = ts.groupby(pd.TimeGrouper(\"M\"))['tripduration'].mean().reset_index()\n",
    "q2_5_answer = by_month.tripduration.max() - by_month.tripduration.min()\n",
    "print(q2_5_answer)"
   ]
  },
  {
   "cell_type": "code",
   "execution_count": null,
   "metadata": {
    "collapsed": true
   },
   "outputs": [],
   "source": [
    "#Q6 hourly usage fration by station compared to system\n",
    "#Let us define the hourly usage fraction of a station to be the fraction of all rides starting at that station \n",
    "#that leave during a specific hour. A station has surprising usage patterns if it has an hourly usage \n",
    "#fraction for an hour significantly different from the corresponding hourly usage fraction of the system as a whole. \n",
    "#What is the largest ratio of station hourly usage fraction to system hourly usage fraction \n",
    "#(hence corresponding to the most \"surprising\" station-hour pair)?"
   ]
  },
  {
   "cell_type": "code",
   "execution_count": 33,
   "metadata": {
    "collapsed": false
   },
   "outputs": [
    {
     "name": "stdout",
     "output_type": "stream",
     "text": [
      "11.4216840462\n"
     ]
    }
   ],
   "source": [
    "ts[\"hour\"] = ts.index.hour\n",
    "\n",
    "#find hourly usage fraction by station by hour \n",
    "by_station_hour_count = ts.groupby(['start station id','hour'])['start station name'].size().unstack()\n",
    "by_station_sum = ts.groupby(['start station id'])['start station name'].size().reset_index()\n",
    "by_station_hour_count['starts_total'] = by_station_sum[0].values\n",
    "by_stn_div = by_station_hour_count.div(by_station_hour_count['starts_total'], axis='index')\n",
    "\n",
    "#find hourly usage fraction by station for system \n",
    "system_hour_count = ts.groupby('hour').size()/len(ts)\n",
    "by_stn_div = by_stn_div.T\n",
    "by_stn_div['sys_starts_total'] = system_hour_count\n",
    "\n",
    "#compare hourly usage fraction by station to that of the hourly usage fraction by system\n",
    "by_stn_div = by_stn_div[0:24]\n",
    "stn_to_sys = by_stn_div.div(by_stn_div['sys_starts_total'], axis='index')\n",
    "q2_6_answer = stn_to_sys.iloc[:,:-1].max().max()\n",
    "print(q2_6_answer)"
   ]
  },
  {
   "cell_type": "code",
   "execution_count": null,
   "metadata": {
    "collapsed": true
   },
   "outputs": [],
   "source": [
    "#Q7 #What fraction of rides exceed their corresponding time limit by rider type\n",
    "#There are two types of riders: \"Customers\" and \"Subscribers.\" Customers buy a short-time pass which \n",
    "#allows 30-minute rides. Subscribers buy yearly passes that allow 45-minute rides. \n",
    "#What fraction of rides exceed their corresponding time limit?"
   ]
  },
  {
   "cell_type": "code",
   "execution_count": 34,
   "metadata": {
    "collapsed": false
   },
   "outputs": [
    {
     "name": "stdout",
     "output_type": "stream",
     "text": [
      "0.038106780168060496\n"
     ]
    }
   ],
   "source": [
    "bike['duration_min'] = bike['tripduration']/60\n",
    "over_subscribers = len(bike[(bike['usertype'] == 'Subscriber') & (bike['duration_min'] > 45)])\n",
    "over_customers = len(bike[(bike['usertype'] == 'Customer') & (bike['duration_min'] > 30)])\n",
    "q2_7_answer = (over_subscribers + over_customers) / len(bike)\n",
    "print(q2_7_answer)"
   ]
  },
  {
   "cell_type": "code",
   "execution_count": null,
   "metadata": {
    "collapsed": true
   },
   "outputs": [],
   "source": [
    "#Q8 What is the average number of times a bike is moved during this period\n",
    "#Most of the time, a bike will begin a trip at the same station where its previous trip ended. \n",
    "#Sometimes a bike will be moved by the program, either for maintenance or to rebalance the distribution of bikes. \n",
    "#What is the average number of times a bike is moved during this period, as detected by seeing if it \n",
    "#starts at a different station than where the previous ride ended?"
   ]
  },
  {
   "cell_type": "code",
   "execution_count": 35,
   "metadata": {
    "collapsed": false
   },
   "outputs": [
    {
     "name": "stderr",
     "output_type": "stream",
     "text": [
      "/Users/kate/venv3/lib/python3.5/site-packages/pandas/core/indexing.py:296: SettingWithCopyWarning: \n",
      "A value is trying to be set on a copy of a slice from a DataFrame.\n",
      "Try using .loc[row_indexer,col_indexer] = value instead\n",
      "\n",
      "See the caveats in the documentation: http://pandas.pydata.org/pandas-docs/stable/indexing.html#indexing-view-versus-copy\n",
      "  self.obj[key] = _infer_fill_value(value)\n",
      "/Users/kate/venv3/lib/python3.5/site-packages/pandas/core/indexing.py:476: SettingWithCopyWarning: \n",
      "A value is trying to be set on a copy of a slice from a DataFrame.\n",
      "Try using .loc[row_indexer,col_indexer] = value instead\n",
      "\n",
      "See the caveats in the documentation: http://pandas.pydata.org/pandas-docs/stable/indexing.html#indexing-view-versus-copy\n",
      "  self.obj[item] = s\n"
     ]
    },
    {
     "name": "stdout",
     "output_type": "stream",
     "text": [
      "1147.29656718\n"
     ]
    }
   ],
   "source": [
    "#groupby bike id \n",
    "moved_by_bike = []\n",
    "bikeIds = pd.unique(bike['bikeid']).tolist()\n",
    "\n",
    "for i in range(len(bikeIds)): \n",
    "    by_bike = bike[bike['bikeid'] == bikeIds[i]]\n",
    "    previous = [0] + by_bike['end station id'].tolist()\n",
    "    by_bike.loc[:,'previous'] = previous[:-1]\n",
    "    moved = len(by_bike[by_bike['end station id'] != by_bike['previous']])\n",
    "    moved_by_bike.append(moved)\n",
    "    \n",
    "q2_8_answer = np.mean(moved_by_bike)\n",
    "print(q2_8_answer)"
   ]
  }
 ],
 "metadata": {
  "kernelspec": {
   "display_name": "Py3",
   "language": "python",
   "name": "py3"
  },
  "language_info": {
   "codemirror_mode": {
    "name": "ipython",
    "version": 3
   },
   "file_extension": ".py",
   "mimetype": "text/x-python",
   "name": "python",
   "nbconvert_exporter": "python",
   "pygments_lexer": "ipython3",
   "version": "3.5.2"
  }
 },
 "nbformat": 4,
 "nbformat_minor": 1
}
